{
 "cells": [
  {
   "cell_type": "markdown",
   "id": "53a3ca76",
   "metadata": {},
   "source": [
    "# Лабораторная работа №1"
   ]
  },
  {
   "cell_type": "code",
   "execution_count": 135,
   "id": "69c48115-1331-4e25-b78c-8c639ac9ad14",
   "metadata": {
    "tags": []
   },
   "outputs": [],
   "source": [
    "import pandas as pd\n",
    "\n",
    "from sklearn.preprocessing import StandardScaler\n",
    "from sklearn.model_selection import train_test_split\n",
    "from sklearn.neighbors import KNeighborsClassifier\n",
    "from sklearn.model_selection import GridSearchCV\n",
    "from sklearn import metrics"
   ]
  },
  {
   "cell_type": "markdown",
   "id": "6b268e61",
   "metadata": {},
   "source": [
    "Загружаем датасет"
   ]
  },
  {
   "cell_type": "code",
   "execution_count": 136,
   "id": "a43cf588-a2f1-4b7a-ac02-f8f3aac12f76",
   "metadata": {
    "tags": []
   },
   "outputs": [],
   "source": [
    "mushrooom_dataset = pd.read_csv('MushroomDataset/secondary_data.csv',delimiter=';')"
   ]
  },
  {
   "cell_type": "markdown",
   "id": "14c8117c",
   "metadata": {},
   "source": [
    "Выделяем таргетный столбец в отдельный Series, а все остальные столбы в DataFrame. Также удаляем все столбцы, где большая часть данных типа NaN и заменяем все классы на номер буквы в алфавите."
   ]
  },
  {
   "cell_type": "code",
   "execution_count": 144,
   "id": "daedbc04",
   "metadata": {},
   "outputs": [],
   "source": [
    "y = mushrooom_dataset['class']\n",
    "X = mushrooom_dataset.drop('class',axis=1)\n",
    "X = X.drop(columns=['cap-surface','gill-spacing','gill-attachment','stem-root',\n",
    "                    'stem-surface','veil-type','veil-color','ring-type','spore-print-color'])\n",
    "X.replace({'a':1,'b':2,'c':3,'d':4,'e':5,'f':6,'g':7,\n",
    "           'h':8,'i':9,'j':10,'k':11,'l':12,'m':13,\n",
    "           'n':14,'o':15,'p':16,'q':17,'r':18,'s':19,\n",
    "           't':20,'u':21,'v':22,'w':23,'x':24,'y':25,'z':26},inplace=True)"
   ]
  },
  {
   "cell_type": "markdown",
   "id": "f442f178",
   "metadata": {},
   "source": [
    "После устранения пропусков нормализуем все значения."
   ]
  },
  {
   "cell_type": "code",
   "execution_count": 146,
   "id": "8ca6f84f",
   "metadata": {},
   "outputs": [],
   "source": [
    "scaler = StandardScaler()\n",
    "X_ans = scaler.fit_transform(X)"
   ]
  },
  {
   "cell_type": "markdown",
   "id": "6d6a3a67",
   "metadata": {},
   "source": [
    "Разделяем данные на тренировочную и тестовую части."
   ]
  },
  {
   "cell_type": "code",
   "execution_count": 147,
   "id": "33804b7e",
   "metadata": {},
   "outputs": [],
   "source": [
    "X_train, X_test, y_train, y_test = train_test_split(X_ans, y, test_size=0.2)"
   ]
  },
  {
   "cell_type": "markdown",
   "id": "4aa79673",
   "metadata": {},
   "source": [
    "Объявим модель, на основе которой будет проходить классификация. В качестве начальных параметров зададим: кол-во соседей = 10, весомость соседа на основе растояния до него, размер листьев, который используется при построении деревьев решений = 30, расчёт расстояния по евклидовой метрике, и кол-во паралельных потоков = 4."
   ]
  },
  {
   "cell_type": "code",
   "execution_count": 148,
   "id": "8951f984",
   "metadata": {},
   "outputs": [],
   "source": [
    "best_model = KNeighborsClassifier(\n",
    "   n_neighbors=10, \n",
    "   weights='distance',\n",
    "   algorithm='auto',\n",
    "   leaf_size=30,\n",
    "   metric='euclidean',\n",
    "   metric_params=None,\n",
    "   n_jobs=4\n",
    ")"
   ]
  },
  {
   "cell_type": "markdown",
   "id": "b4772019",
   "metadata": {},
   "source": [
    "Далее натренируем модель, для этого передадит в неё тренировочные данные, и проведём тренировку для кол-ва соседей от 1 до 30 после чего запомним самые лучшие параметры."
   ]
  },
  {
   "cell_type": "code",
   "execution_count": 149,
   "id": "569fc535",
   "metadata": {},
   "outputs": [],
   "source": [
    "best_model.fit(X_train, y_train)\n",
    "model_params = best_model.get_params()\n",
    "tuned_params = {}\n",
    "for k, v in model_params.items():\n",
    "    tuned_params[k] = [v]\n",
    "tuned_params['n_neighbors'] = range(1, 30)\n",
    "tuned_params['metric'] = ['minkowski','euclidean','manhattan']\n",
    "clf = GridSearchCV(best_model, tuned_params, cv=5, n_jobs=-1)\n",
    "clf.fit(X_train, y_train)\n",
    "best_params = clf.best_params_"
   ]
  },
  {
   "cell_type": "markdown",
   "id": "197fc00b",
   "metadata": {},
   "source": [
    "После того, как были найдены оптимальные гиперпараметры, можно вывести различные метрики, такие как точность, полнота, f-мера и поддержка."
   ]
  },
  {
   "cell_type": "code",
   "execution_count": 150,
   "id": "44fee69e",
   "metadata": {},
   "outputs": [
    {
     "name": "stdout",
     "output_type": "stream",
     "text": [
      "Used params: {'algorithm': 'auto', 'leaf_size': 30, 'metric': 'manhattan', 'metric_params': None, 'n_jobs': 4, 'n_neighbors': 4, 'p': 2, 'weights': 'distance'}\n",
      "Evaluation:\n",
      "               precision    recall  f1-score   support\n",
      "\n",
      "           e    0.99591   0.99461   0.99526      5383\n",
      "           p    0.99576   0.99678   0.99627      6831\n",
      "\n",
      "    accuracy                        0.99582     12214\n",
      "   macro avg    0.99583   0.99570   0.99576     12214\n",
      "weighted avg    0.99582   0.99582   0.99582     12214\n",
      "\n",
      "Score: 0.9958244637301458\n"
     ]
    }
   ],
   "source": [
    "best_model = KNeighborsClassifier(**best_params)\n",
    "best_model.fit(X_train, y_train)\n",
    "predicted = best_model.predict(X_test)\n",
    "print('Used params:',best_params)\n",
    "print('Evaluation:\\n', metrics.classification_report(y_test, predicted,digits=5))\n",
    "print('Score:',clf.score(X_test,y_test))"
   ]
  }
 ],
 "metadata": {
  "kernelspec": {
   "display_name": "Python 3 (ipykernel)",
   "language": "python",
   "name": "python3"
  },
  "language_info": {
   "codemirror_mode": {
    "name": "ipython",
    "version": 3
   },
   "file_extension": ".py",
   "mimetype": "text/x-python",
   "name": "python",
   "nbconvert_exporter": "python",
   "pygments_lexer": "ipython3",
   "version": "3.11.3"
  }
 },
 "nbformat": 4,
 "nbformat_minor": 5
}
